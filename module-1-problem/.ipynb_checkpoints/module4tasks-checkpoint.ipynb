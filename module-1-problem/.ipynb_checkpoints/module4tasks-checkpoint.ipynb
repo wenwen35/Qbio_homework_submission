{
 "cells": [
  {
   "cell_type": "code",
   "execution_count": null,
   "id": "73291960-8e87-4131-93a3-c34baed063c8",
   "metadata": {},
   "outputs": [],
   "source": [
    "%matplotlib inline\n",
    "import numpy as np\n",
    "import matplotlib.pyplot as plt\n",
    "\n",
    "\n",
    "# ✅ 正确的文件名（带下划线）\n",
    "filename = 'fluorescence_data.csv'\n",
    "\n",
    "\n",
    "# 检查是否存在\n",
    "import os\n",
    "if not os.path.exists(filename):\n",
    "    raise FileNotFoundError(f\"❌ 找不到文件：{filename}\")\n",
    "\n",
    "\n",
    "# 加载数据（第一行是标题，跳过）\n",
    "data = np.loadtxt(filename, delimiter=',', skiprows=1)\n",
    "time = data[:, 0]           # 时间（分钟）\n",
    "fluorescence = data[:, 1]   # 荧光强度（A.U.）\n",
    "\n",
    "\n",
    "print(\"✅ 数据加载成功！\")\n",
    "print(f\"数据形状：{data.shape} → {data.shape[0]} 行，2 列\")\n",
    "print(\"前5行数据：\")\n",
    "print(data[:5])"
   ]
  },
  {
   "cell_type": "code",
   "execution_count": null,
   "id": "e78e8b78-c3c9-4bce-bedb-15d15635d295",
   "metadata": {},
   "outputs": [],
   "source": [
    "plt.figure(figsize=(9, 6))\n",
    "plt.plot(time, fluorescence, 'o-', color='green', linewidth=2, markersize=5, label='GFP Fluorescence')\n",
    "\n",
    "\n",
    "plt.xlabel('Time (minutes)', fontsize=12)\n",
    "plt.ylabel('Fluorescence (A.U.)', fontsize=12)\n",
    "plt.title('GFP Expression in E. coli Over Time', fontsize=14, fontweight='bold')\n",
    "plt.grid(True, alpha=0.3)\n",
    "plt.legend(fontsize=11)\n",
    "plt.tight_layout()\n",
    "plt.show()"
   ]
  },
  {
   "cell_type": "code",
   "execution_count": null,
   "id": "06f65130-7d67-42a3-b271-5afb35091254",
   "metadata": {},
   "outputs": [],
   "source": [
    "# 1. 最大荧光值\n",
    "max_fluor = np.max(fluorescence)\n",
    "print(f\"Maximum fluorescence level: {max_fluor:.2f} A.U.\")\n",
    "\n",
    "\n",
    "# 2. 达到最大值的时间\n",
    "max_time = time[np.argmax(fluorescence)]\n",
    "print(f\"Time at maximum fluorescence: {max_time:.1f} minutes\")\n",
    "\n",
    "\n",
    "# 3. 10 到 60 分钟之间的平均上升速率\n",
    "# 找出时间在 [10, 60] 分钟范围内的数据\n",
    "mask = (time >= 10) & (time <= 60)\n",
    "t_window = time[mask]\n",
    "f_window = fluorescence[mask]\n",
    "\n",
    "\n",
    "# 取窗口内第一个和最后一个点\n",
    "t1, t2 = t_window[0], t_window[-1]\n",
    "f1, f2 = f_window[0], f_window[-1]\n",
    "avg_rate = (f2 - f1) / (t2 - t1)\n",
    "\n",
    "\n",
    "print(f\"Average rate of fluorescence increase (10–60 min): {avg_rate:.4f} A.U./min\")"
   ]
  },
  {
   "cell_type": "code",
   "execution_count": null,
   "id": "adbc7f23-950e-4dfc-a264-812b44cf133c",
   "metadata": {},
   "outputs": [],
   "source": []
  },
  {
   "cell_type": "code",
   "execution_count": null,
   "id": "a916726c-5667-40eb-bff6-796c3cc3495b",
   "metadata": {},
   "outputs": [],
   "source": []
  },
  {
   "cell_type": "code",
   "execution_count": null,
   "id": "d4bda273-4451-49ba-99bc-61d7e988dcc8",
   "metadata": {},
   "outputs": [],
   "source": []
  },
  {
   "cell_type": "code",
   "execution_count": null,
   "id": "2c4e9eba-e538-467c-9c77-5d30e21a5a18",
   "metadata": {},
   "outputs": [],
   "source": []
  }
 ],
 "metadata": {
  "kernelspec": {
   "display_name": "Python 3 (ipykernel)",
   "language": "python",
   "name": "python3"
  },
  "language_info": {
   "codemirror_mode": {
    "name": "ipython",
    "version": 3
   },
   "file_extension": ".py",
   "mimetype": "text/x-python",
   "name": "python",
   "nbconvert_exporter": "python",
   "pygments_lexer": "ipython3",
   "version": "3.12.11"
  }
 },
 "nbformat": 4,
 "nbformat_minor": 5
}
